{
  "nbformat": 4,
  "nbformat_minor": 0,
  "metadata": {
    "colab": {
      "provenance": []
    },
    "kernelspec": {
      "name": "python3",
      "display_name": "Python 3"
    },
    "language_info": {
      "name": "python"
    }
  },
  "cells": [
    {
      "cell_type": "markdown",
      "source": [
        "## Problem: Credit Card Anomaly Detection"
      ],
      "metadata": {
        "id": "nNrHhjDUEPyj"
      }
    },
    {
      "cell_type": "code",
      "execution_count": null,
      "metadata": {
        "id": "K8jdjQZYRMSs"
      },
      "outputs": [],
      "source": [
        "# 필요한 package loading\n",
        "import numpy as np # linear algebra\n",
        "import pandas as pd # data processing, CSV file I/O (e.g. pd.read_csv)\n",
        "import io\n",
        "import matplotlib.pyplot as plt\n",
        "from subprocess import check_output\n",
        "\n",
        "from sklearn.model_selection import train_test_split\n",
        "from matplotlib.colors import LogNorm\n",
        "from sklearn import mixture\n",
        "\n",
        "from sklearn.metrics import average_precision_score\n",
        "from sklearn.metrics import precision_recall_curve\n",
        "from sklearn.metrics import classification_report\n",
        "from sklearn.model_selection import StratifiedKFold\n",
        "from sklearn.metrics import precision_score\n",
        "from sklearn.metrics import recall_score"
      ]
    },
    {
      "cell_type": "code",
      "source": [
        "# 데이터 불러오기(Colab)\n",
        "# Local data upload 시, 주석 처리\n",
        "from google.colab import files\n",
        "uploaded = files.upload()"
      ],
      "metadata": {
        "colab": {
          "base_uri": "https://localhost:8080/",
          "height": 76
        },
        "id": "Qa2Re9rEEndY",
        "outputId": "1ce37207-c9a5-49e1-cf01-ee4db59cc98c"
      },
      "execution_count": null,
      "outputs": [
        {
          "output_type": "display_data",
          "data": {
            "text/plain": [
              "<IPython.core.display.HTML object>"
            ],
            "text/html": [
              "\n",
              "     <input type=\"file\" id=\"files-8c0aade1-99d3-42db-9f77-5b538e02b931\" name=\"files[]\" multiple disabled\n",
              "        style=\"border:none\" />\n",
              "     <output id=\"result-8c0aade1-99d3-42db-9f77-5b538e02b931\">\n",
              "      Upload widget is only available when the cell has been executed in the\n",
              "      current browser session. Please rerun this cell to enable.\n",
              "      </output>\n",
              "      <script>// Copyright 2017 Google LLC\n",
              "//\n",
              "// Licensed under the Apache License, Version 2.0 (the \"License\");\n",
              "// you may not use this file except in compliance with the License.\n",
              "// You may obtain a copy of the License at\n",
              "//\n",
              "//      http://www.apache.org/licenses/LICENSE-2.0\n",
              "//\n",
              "// Unless required by applicable law or agreed to in writing, software\n",
              "// distributed under the License is distributed on an \"AS IS\" BASIS,\n",
              "// WITHOUT WARRANTIES OR CONDITIONS OF ANY KIND, either express or implied.\n",
              "// See the License for the specific language governing permissions and\n",
              "// limitations under the License.\n",
              "\n",
              "/**\n",
              " * @fileoverview Helpers for google.colab Python module.\n",
              " */\n",
              "(function(scope) {\n",
              "function span(text, styleAttributes = {}) {\n",
              "  const element = document.createElement('span');\n",
              "  element.textContent = text;\n",
              "  for (const key of Object.keys(styleAttributes)) {\n",
              "    element.style[key] = styleAttributes[key];\n",
              "  }\n",
              "  return element;\n",
              "}\n",
              "\n",
              "// Max number of bytes which will be uploaded at a time.\n",
              "const MAX_PAYLOAD_SIZE = 100 * 1024;\n",
              "\n",
              "function _uploadFiles(inputId, outputId) {\n",
              "  const steps = uploadFilesStep(inputId, outputId);\n",
              "  const outputElement = document.getElementById(outputId);\n",
              "  // Cache steps on the outputElement to make it available for the next call\n",
              "  // to uploadFilesContinue from Python.\n",
              "  outputElement.steps = steps;\n",
              "\n",
              "  return _uploadFilesContinue(outputId);\n",
              "}\n",
              "\n",
              "// This is roughly an async generator (not supported in the browser yet),\n",
              "// where there are multiple asynchronous steps and the Python side is going\n",
              "// to poll for completion of each step.\n",
              "// This uses a Promise to block the python side on completion of each step,\n",
              "// then passes the result of the previous step as the input to the next step.\n",
              "function _uploadFilesContinue(outputId) {\n",
              "  const outputElement = document.getElementById(outputId);\n",
              "  const steps = outputElement.steps;\n",
              "\n",
              "  const next = steps.next(outputElement.lastPromiseValue);\n",
              "  return Promise.resolve(next.value.promise).then((value) => {\n",
              "    // Cache the last promise value to make it available to the next\n",
              "    // step of the generator.\n",
              "    outputElement.lastPromiseValue = value;\n",
              "    return next.value.response;\n",
              "  });\n",
              "}\n",
              "\n",
              "/**\n",
              " * Generator function which is called between each async step of the upload\n",
              " * process.\n",
              " * @param {string} inputId Element ID of the input file picker element.\n",
              " * @param {string} outputId Element ID of the output display.\n",
              " * @return {!Iterable<!Object>} Iterable of next steps.\n",
              " */\n",
              "function* uploadFilesStep(inputId, outputId) {\n",
              "  const inputElement = document.getElementById(inputId);\n",
              "  inputElement.disabled = false;\n",
              "\n",
              "  const outputElement = document.getElementById(outputId);\n",
              "  outputElement.innerHTML = '';\n",
              "\n",
              "  const pickedPromise = new Promise((resolve) => {\n",
              "    inputElement.addEventListener('change', (e) => {\n",
              "      resolve(e.target.files);\n",
              "    });\n",
              "  });\n",
              "\n",
              "  const cancel = document.createElement('button');\n",
              "  inputElement.parentElement.appendChild(cancel);\n",
              "  cancel.textContent = 'Cancel upload';\n",
              "  const cancelPromise = new Promise((resolve) => {\n",
              "    cancel.onclick = () => {\n",
              "      resolve(null);\n",
              "    };\n",
              "  });\n",
              "\n",
              "  // Wait for the user to pick the files.\n",
              "  const files = yield {\n",
              "    promise: Promise.race([pickedPromise, cancelPromise]),\n",
              "    response: {\n",
              "      action: 'starting',\n",
              "    }\n",
              "  };\n",
              "\n",
              "  cancel.remove();\n",
              "\n",
              "  // Disable the input element since further picks are not allowed.\n",
              "  inputElement.disabled = true;\n",
              "\n",
              "  if (!files) {\n",
              "    return {\n",
              "      response: {\n",
              "        action: 'complete',\n",
              "      }\n",
              "    };\n",
              "  }\n",
              "\n",
              "  for (const file of files) {\n",
              "    const li = document.createElement('li');\n",
              "    li.append(span(file.name, {fontWeight: 'bold'}));\n",
              "    li.append(span(\n",
              "        `(${file.type || 'n/a'}) - ${file.size} bytes, ` +\n",
              "        `last modified: ${\n",
              "            file.lastModifiedDate ? file.lastModifiedDate.toLocaleDateString() :\n",
              "                                    'n/a'} - `));\n",
              "    const percent = span('0% done');\n",
              "    li.appendChild(percent);\n",
              "\n",
              "    outputElement.appendChild(li);\n",
              "\n",
              "    const fileDataPromise = new Promise((resolve) => {\n",
              "      const reader = new FileReader();\n",
              "      reader.onload = (e) => {\n",
              "        resolve(e.target.result);\n",
              "      };\n",
              "      reader.readAsArrayBuffer(file);\n",
              "    });\n",
              "    // Wait for the data to be ready.\n",
              "    let fileData = yield {\n",
              "      promise: fileDataPromise,\n",
              "      response: {\n",
              "        action: 'continue',\n",
              "      }\n",
              "    };\n",
              "\n",
              "    // Use a chunked sending to avoid message size limits. See b/62115660.\n",
              "    let position = 0;\n",
              "    do {\n",
              "      const length = Math.min(fileData.byteLength - position, MAX_PAYLOAD_SIZE);\n",
              "      const chunk = new Uint8Array(fileData, position, length);\n",
              "      position += length;\n",
              "\n",
              "      const base64 = btoa(String.fromCharCode.apply(null, chunk));\n",
              "      yield {\n",
              "        response: {\n",
              "          action: 'append',\n",
              "          file: file.name,\n",
              "          data: base64,\n",
              "        },\n",
              "      };\n",
              "\n",
              "      let percentDone = fileData.byteLength === 0 ?\n",
              "          100 :\n",
              "          Math.round((position / fileData.byteLength) * 100);\n",
              "      percent.textContent = `${percentDone}% done`;\n",
              "\n",
              "    } while (position < fileData.byteLength);\n",
              "  }\n",
              "\n",
              "  // All done.\n",
              "  yield {\n",
              "    response: {\n",
              "      action: 'complete',\n",
              "    }\n",
              "  };\n",
              "}\n",
              "\n",
              "scope.google = scope.google || {};\n",
              "scope.google.colab = scope.google.colab || {};\n",
              "scope.google.colab._files = {\n",
              "  _uploadFiles,\n",
              "  _uploadFilesContinue,\n",
              "};\n",
              "})(self);\n",
              "</script> "
            ]
          },
          "metadata": {}
        },
        {
          "output_type": "stream",
          "name": "stdout",
          "text": [
            "Saving creditcard.csv to creditcard.csv\n"
          ]
        }
      ]
    },
    {
      "cell_type": "code",
      "source": [
        "# 데이터 불러오기(Colab)\n",
        "# Local data upload 시, path 설정\n",
        "df = pd.read_csv(io.StringIO(uploaded['tips.csv'].decode('utf-8')))\n",
        "df.head()"
      ],
      "metadata": {
        "id": "jNddidsZE3el"
      },
      "execution_count": null,
      "outputs": []
    },
    {
      "cell_type": "code",
      "source": [
        "# Data split (per class)\n",
        "df_0=df[df.Class==0]    # non-fraudulent only\n",
        "df_1=df[df.Class==1]    # fraudulent only\n",
        "\n",
        "# Data split (per sampling ratio)\n",
        "# non-fraudulent data in 90% for training GMM and 10% for cross-validation and testing\n",
        "X_N_train, X_N_cv_test, y_N_train, y_N_cv_test = train_test_split(df_0.drop(['Class'],axis=1), df_0['Class'] , test_size=0.1, random_state=1)\n",
        "# fraudulent data in 50% for cross-validation and 50% for testing\n",
        "X_F_cv, X_F_test, y_F_cv, y_F_test = train_test_split(df_1.drop(['Class'],axis=1), df_1['Class'] , test_size=0.5, random_state=1)\n",
        "# the remaining 10% non-fraudulent in 50% for cross-validation and 50% for testing\n",
        "X_N_cv, X_N_test, y_N_cv, y_N_test = train_test_split(X_N_cv_test, y_N_cv_test , test_size=0.5, random_state=1)\n",
        "\n",
        "print(\"===== Train =====\")\n",
        "print(X_N_train.shape)\n",
        "print(X_F_cv.shape)\n",
        "print(X_N_cv.shape)\n",
        "\n",
        "print(\"===== Test =====\")\n",
        "print(X_N_cv_test.shape)\n",
        "print(X_F_test.shape)\n",
        "print(X_N_test.shape)"
      ],
      "metadata": {
        "id": "VB__kgNzE63S"
      },
      "execution_count": null,
      "outputs": []
    },
    {
      "cell_type": "code",
      "source": [
        "#Generate the 3 new datasets (Train + CV + test)\n",
        "X_CV = np.vstack([X_N_cv, X_F_cv])\n",
        "y_CV = np.hstack([y_N_cv, y_F_cv])\n",
        "X_test = np.vstack([X_N_test, X_F_test])\n",
        "y_test = np.hstack([y_N_test, y_F_test])\n",
        "\n",
        "print(X_CV.shape)\n",
        "print(y_CV.shape)\n",
        "print(X_test.shape)\n",
        "print(y_test.shape)"
      ],
      "metadata": {
        "id": "poY9B7GgZJRQ"
      },
      "execution_count": null,
      "outputs": []
    },
    {
      "cell_type": "code",
      "source": [
        "# Fit a Gaussian Mixture Model with the data from the NORMAL cases. *Note we are using ALL available features now.\n",
        "clf = mixture.GaussianMixture()\n",
        "clf.fit(X_N_train)"
      ],
      "metadata": {
        "id": "ZO9AzPIzEjlD"
      },
      "execution_count": null,
      "outputs": []
    },
    {
      "cell_type": "code",
      "source": [
        "kfold = StratifiedKFold(n_splits=5, random_state=1)                                   #Create 5-CV split object\n",
        "T_vec=-np.arange(0,1000,2)          #Trying thresholds in steps of 2, from 0 to -1000. Note we are evaluating the negative log-likelihood.\n",
        "aucpr_vs_t=[]\n",
        "precision_vs_t=[]\n",
        "recall_vs_t=[]\n",
        "\n",
        "for t in T_vec:\n",
        "    \n",
        "    aucpr=[]\n",
        "    precision=[]\n",
        "    recall=[]\n",
        "    k=0\n",
        "    for train_index, test_index in kfold.split(X_CV,y_CV):\n",
        "            \n",
        "            y_cv_proba=clf.score_samples(X_CV[test_index])                                 #Predict the probabilities of fold \"k\" using the fitted GMM \n",
        "            y_cv_pred=y_cv_proba.copy()\n",
        "            y_cv_pred[y_cv_pred>=t]=0\n",
        "            y_cv_pred[y_cv_pred<t]=1   \n",
        "            #print('Classification report')\n",
        "            #print(classification_report(y_CV[test_index], y_cv_pred))\n",
        "            precision.append(precision_score( y_CV[test_index], y_cv_pred))\n",
        "            recall.append(recall_score( y_CV[test_index], y_cv_pred))\n",
        "            aucpr.append(average_precision_score( y_CV[test_index], y_cv_pred))\n",
        "            #print(\"Threshold T = %i --> Fold %i - aucpr=%.3f - Precision=%.3f - Recall=%.3f\" %(t, k+1, aucpr[k], precision[k], recall[k]))\n",
        "            k=k+1  \n",
        "            \n",
        "            \n",
        "    aucpr_vs_t.append(np.mean(aucpr))\n",
        "    precision_vs_t.append(np.mean(precision))\n",
        "    recall_vs_t.append(np.mean(recall))\n",
        "    #print('CV average AUCPR: %.3f +/- %.3f' % ( np.mean(aucpr), np.std(aucpr)))    \n",
        "    #print('CV average precision: %.3f +/- %.3f' % ( np.mean(precision), np.std(precision)))    \n",
        "    #print('CV average recall: %.3f +/- %.3f' % ( np.mean(recall), np.std(recall)))"
      ],
      "metadata": {
        "id": "9D0OZ2uMEjmy"
      },
      "execution_count": null,
      "outputs": []
    },
    {
      "cell_type": "code",
      "source": [
        "plt.plot(T_vec, aucpr_vs_t)\n",
        "plt.plot(T_vec, precision_vs_t)\n",
        "plt.plot(T_vec,recall_vs_t)\n",
        "ax = plt.gca()\n",
        "ax.set(title='Evolution of performance scores vs. threshold for GMM probability', xlabel='Threshold T [neg loglikelihood]')\n",
        "ax.legend(['AUCPR (5 fold CV average)', 'Precision (5 fold CV average)', 'Recall (5 fold CV average)'])\n",
        "ax.invert_xaxis()"
      ],
      "metadata": {
        "id": "2pWniE-KEjob"
      },
      "execution_count": null,
      "outputs": []
    },
    {
      "cell_type": "code",
      "source": [
        "print('Maximum cross validation AUCPR='+str(max(aucpr_vs_t)))\n",
        "\n",
        "T_opt=T_vec[np.argmax(aucpr_vs_t)]\n",
        "print('Optimal threshold T = '+str(T_opt))\n",
        "\n",
        "y_test_proba = clf.score_samples(X_test)\n",
        "y_test_pred=y_test_proba.copy()\n",
        "y_test_pred[y_test_pred>=T_opt]=0\n",
        "y_test_pred[y_test_pred<T_opt]=1   \n",
        "\n",
        "test_precision = (precision_score( y_test, y_test_pred))\n",
        "test_recall = (recall_score( y_test, y_test_pred))\n",
        "test_aucpr = (average_precision_score( y_test, y_test_pred))\n",
        "\n",
        "print(\"TEST results --> aucpr=%.3f - Precision=%.3f - Recall=%.3f\" %(test_aucpr, test_precision, test_recall) )"
      ],
      "metadata": {
        "id": "Bre6ptPpEjqF"
      },
      "execution_count": null,
      "outputs": []
    },
    {
      "cell_type": "code",
      "source": [],
      "metadata": {
        "id": "u8rNeTDkGdjs"
      },
      "execution_count": null,
      "outputs": []
    }
  ]
}